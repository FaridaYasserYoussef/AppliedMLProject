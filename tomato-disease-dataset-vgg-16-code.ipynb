{
 "cells": [
  {
   "cell_type": "code",
   "execution_count": 1,
   "metadata": {
    "_cell_guid": "b1076dfc-b9ad-4769-8c92-a6c4dae69d19",
    "_uuid": "8f2839f25d086af736a60e9eeb907d3b93b6e0e5",
    "execution": {
     "iopub.execute_input": "2023-06-03T03:59:20.458085Z",
     "iopub.status.busy": "2023-06-03T03:59:20.457683Z",
     "iopub.status.idle": "2023-06-03T03:59:22.034600Z",
     "shell.execute_reply": "2023-06-03T03:59:22.033590Z",
     "shell.execute_reply.started": "2023-06-03T03:59:20.458050Z"
    }
   },
   "outputs": [],
   "source": [
    "import os\n",
    "import numpy as np\n",
    "import pandas as pd\n",
    "from PIL import Image\n",
    "import matplotlib.pyplot as plt\n",
    "import matplotlib.image as mpimg\n",
    "from sklearn.model_selection import train_test_split"
   ]
  },
  {
   "cell_type": "code",
   "execution_count": 2,
   "metadata": {
    "execution": {
     "iopub.execute_input": "2023-06-03T03:59:22.039168Z",
     "iopub.status.busy": "2023-06-03T03:59:22.037349Z",
     "iopub.status.idle": "2023-06-03T03:59:22.059434Z",
     "shell.execute_reply": "2023-06-03T03:59:22.058619Z",
     "shell.execute_reply.started": "2023-06-03T03:59:22.039135Z"
    }
   },
   "outputs": [
    {
     "data": {
      "text/plain": [
       "['Late_blight',\n",
       " 'Tomato_Yellow_Leaf_Curl_Virus',\n",
       " 'Septoria_leaf_spot',\n",
       " 'Early_blight',\n",
       " 'Spider_mites Two-spotted_spider_mite',\n",
       " 'powdery_mildew',\n",
       " 'healthy',\n",
       " 'Bacterial_spot',\n",
       " 'Target_Spot',\n",
       " 'Tomato_mosaic_virus',\n",
       " 'Leaf_Mold']"
      ]
     },
     "execution_count": 2,
     "metadata": {},
     "output_type": "execute_result"
    }
   ],
   "source": [
    "trainclasses  = os.listdir(\"/kaggle/input/tomato-disease-multiple-sources/train\")\n",
    "trainclasses"
   ]
  },
  {
   "cell_type": "code",
   "execution_count": null,
   "metadata": {},
   "outputs": [],
   "source": []
  },
  {
   "cell_type": "code",
   "execution_count": null,
   "metadata": {},
   "outputs": [],
   "source": []
  },
  {
   "cell_type": "code",
   "execution_count": 3,
   "metadata": {
    "execution": {
     "iopub.execute_input": "2023-06-03T03:59:22.062145Z",
     "iopub.status.busy": "2023-06-03T03:59:22.061819Z",
     "iopub.status.idle": "2023-06-03T03:59:22.141361Z",
     "shell.execute_reply": "2023-06-03T03:59:22.140473Z",
     "shell.execute_reply.started": "2023-06-03T03:59:22.062120Z"
    }
   },
   "outputs": [
    {
     "data": {
      "text/html": [
       "<div>\n",
       "<style scoped>\n",
       "    .dataframe tbody tr th:only-of-type {\n",
       "        vertical-align: middle;\n",
       "    }\n",
       "\n",
       "    .dataframe tbody tr th {\n",
       "        vertical-align: top;\n",
       "    }\n",
       "\n",
       "    .dataframe thead th {\n",
       "        text-align: right;\n",
       "    }\n",
       "</style>\n",
       "<table border=\"1\" class=\"dataframe\">\n",
       "  <thead>\n",
       "    <tr style=\"text-align: right;\">\n",
       "      <th></th>\n",
       "      <th>filepaths</th>\n",
       "      <th>classes</th>\n",
       "    </tr>\n",
       "  </thead>\n",
       "  <tbody>\n",
       "    <tr>\n",
       "      <th>0</th>\n",
       "      <td>/kaggle/input/tomato-disease-multiple-sources/...</td>\n",
       "      <td>Late_blight</td>\n",
       "    </tr>\n",
       "    <tr>\n",
       "      <th>1</th>\n",
       "      <td>/kaggle/input/tomato-disease-multiple-sources/...</td>\n",
       "      <td>Late_blight</td>\n",
       "    </tr>\n",
       "    <tr>\n",
       "      <th>2</th>\n",
       "      <td>/kaggle/input/tomato-disease-multiple-sources/...</td>\n",
       "      <td>Late_blight</td>\n",
       "    </tr>\n",
       "    <tr>\n",
       "      <th>3</th>\n",
       "      <td>/kaggle/input/tomato-disease-multiple-sources/...</td>\n",
       "      <td>Late_blight</td>\n",
       "    </tr>\n",
       "    <tr>\n",
       "      <th>4</th>\n",
       "      <td>/kaggle/input/tomato-disease-multiple-sources/...</td>\n",
       "      <td>Late_blight</td>\n",
       "    </tr>\n",
       "    <tr>\n",
       "      <th>...</th>\n",
       "      <td>...</td>\n",
       "      <td>...</td>\n",
       "    </tr>\n",
       "    <tr>\n",
       "      <th>25846</th>\n",
       "      <td>/kaggle/input/tomato-disease-multiple-sources/...</td>\n",
       "      <td>Leaf_Mold</td>\n",
       "    </tr>\n",
       "    <tr>\n",
       "      <th>25847</th>\n",
       "      <td>/kaggle/input/tomato-disease-multiple-sources/...</td>\n",
       "      <td>Leaf_Mold</td>\n",
       "    </tr>\n",
       "    <tr>\n",
       "      <th>25848</th>\n",
       "      <td>/kaggle/input/tomato-disease-multiple-sources/...</td>\n",
       "      <td>Leaf_Mold</td>\n",
       "    </tr>\n",
       "    <tr>\n",
       "      <th>25849</th>\n",
       "      <td>/kaggle/input/tomato-disease-multiple-sources/...</td>\n",
       "      <td>Leaf_Mold</td>\n",
       "    </tr>\n",
       "    <tr>\n",
       "      <th>25850</th>\n",
       "      <td>/kaggle/input/tomato-disease-multiple-sources/...</td>\n",
       "      <td>Leaf_Mold</td>\n",
       "    </tr>\n",
       "  </tbody>\n",
       "</table>\n",
       "<p>25851 rows × 2 columns</p>\n",
       "</div>"
      ],
      "text/plain": [
       "                                               filepaths      classes\n",
       "0      /kaggle/input/tomato-disease-multiple-sources/...  Late_blight\n",
       "1      /kaggle/input/tomato-disease-multiple-sources/...  Late_blight\n",
       "2      /kaggle/input/tomato-disease-multiple-sources/...  Late_blight\n",
       "3      /kaggle/input/tomato-disease-multiple-sources/...  Late_blight\n",
       "4      /kaggle/input/tomato-disease-multiple-sources/...  Late_blight\n",
       "...                                                  ...          ...\n",
       "25846  /kaggle/input/tomato-disease-multiple-sources/...    Leaf_Mold\n",
       "25847  /kaggle/input/tomato-disease-multiple-sources/...    Leaf_Mold\n",
       "25848  /kaggle/input/tomato-disease-multiple-sources/...    Leaf_Mold\n",
       "25849  /kaggle/input/tomato-disease-multiple-sources/...    Leaf_Mold\n",
       "25850  /kaggle/input/tomato-disease-multiple-sources/...    Leaf_Mold\n",
       "\n",
       "[25851 rows x 2 columns]"
      ]
     },
     "execution_count": 3,
     "metadata": {},
     "output_type": "execute_result"
    }
   ],
   "source": [
    "trainfiles = []\n",
    "all_files = []\n",
    "labels = []\n",
    "\n",
    "for i in trainclasses:\n",
    "    trainfiles = [file for file in os.listdir(\"/kaggle/input/tomato-disease-multiple-sources/train/\" + i)]\n",
    "    for m in trainfiles:\n",
    "        labels.append(i)\n",
    "        filestring = \"/kaggle/input/tomato-disease-multiple-sources/train/\" + i + \"/\" + m\n",
    "        all_files.append(filestring)\n",
    "        \n",
    "\n",
    "df = pd.DataFrame()\n",
    "df[\"filepaths\"] = all_files\n",
    "df[\"classes\"] = labels\n",
    "df"
   ]
  },
  {
   "cell_type": "code",
   "execution_count": 4,
   "metadata": {
    "execution": {
     "iopub.execute_input": "2023-06-03T03:59:22.144305Z",
     "iopub.status.busy": "2023-06-03T03:59:22.143976Z",
     "iopub.status.idle": "2023-06-03T03:59:22.171748Z",
     "shell.execute_reply": "2023-06-03T03:59:22.170942Z",
     "shell.execute_reply.started": "2023-06-03T03:59:22.144274Z"
    }
   },
   "outputs": [
    {
     "name": "stdout",
     "output_type": "stream",
     "text": [
      "6684\n"
     ]
    }
   ],
   "source": [
    "testclasses  = os.listdir(\"/kaggle/input/tomato-disease-multiple-sources/valid\")\n",
    "testfiles =[]\n",
    "for i in testclasses:\n",
    "    #print(len(os.listdir(\"train/\"+i)))\n",
    "    testfiles = testfiles + os.listdir(\"/kaggle/input/tomato-disease-multiple-sources/valid/\"+i)\n",
    "print(len(testfiles))"
   ]
  },
  {
   "cell_type": "code",
   "execution_count": null,
   "metadata": {},
   "outputs": [],
   "source": []
  },
  {
   "cell_type": "code",
   "execution_count": 5,
   "metadata": {
    "execution": {
     "iopub.execute_input": "2023-06-03T03:59:22.173467Z",
     "iopub.status.busy": "2023-06-03T03:59:22.173130Z",
     "iopub.status.idle": "2023-06-03T03:59:22.208153Z",
     "shell.execute_reply": "2023-06-03T03:59:22.207127Z",
     "shell.execute_reply.started": "2023-06-03T03:59:22.173437Z"
    }
   },
   "outputs": [
    {
     "data": {
      "text/html": [
       "<div>\n",
       "<style scoped>\n",
       "    .dataframe tbody tr th:only-of-type {\n",
       "        vertical-align: middle;\n",
       "    }\n",
       "\n",
       "    .dataframe tbody tr th {\n",
       "        vertical-align: top;\n",
       "    }\n",
       "\n",
       "    .dataframe thead th {\n",
       "        text-align: right;\n",
       "    }\n",
       "</style>\n",
       "<table border=\"1\" class=\"dataframe\">\n",
       "  <thead>\n",
       "    <tr style=\"text-align: right;\">\n",
       "      <th></th>\n",
       "      <th>filepaths</th>\n",
       "      <th>classes</th>\n",
       "    </tr>\n",
       "  </thead>\n",
       "  <tbody>\n",
       "    <tr>\n",
       "      <th>0</th>\n",
       "      <td>/kaggle/input/tomato-disease-multiple-sources/...</td>\n",
       "      <td>Late_blight</td>\n",
       "    </tr>\n",
       "    <tr>\n",
       "      <th>1</th>\n",
       "      <td>/kaggle/input/tomato-disease-multiple-sources/...</td>\n",
       "      <td>Late_blight</td>\n",
       "    </tr>\n",
       "    <tr>\n",
       "      <th>2</th>\n",
       "      <td>/kaggle/input/tomato-disease-multiple-sources/...</td>\n",
       "      <td>Late_blight</td>\n",
       "    </tr>\n",
       "    <tr>\n",
       "      <th>3</th>\n",
       "      <td>/kaggle/input/tomato-disease-multiple-sources/...</td>\n",
       "      <td>Late_blight</td>\n",
       "    </tr>\n",
       "    <tr>\n",
       "      <th>4</th>\n",
       "      <td>/kaggle/input/tomato-disease-multiple-sources/...</td>\n",
       "      <td>Late_blight</td>\n",
       "    </tr>\n",
       "    <tr>\n",
       "      <th>...</th>\n",
       "      <td>...</td>\n",
       "      <td>...</td>\n",
       "    </tr>\n",
       "    <tr>\n",
       "      <th>6679</th>\n",
       "      <td>/kaggle/input/tomato-disease-multiple-sources/...</td>\n",
       "      <td>Leaf_Mold</td>\n",
       "    </tr>\n",
       "    <tr>\n",
       "      <th>6680</th>\n",
       "      <td>/kaggle/input/tomato-disease-multiple-sources/...</td>\n",
       "      <td>Leaf_Mold</td>\n",
       "    </tr>\n",
       "    <tr>\n",
       "      <th>6681</th>\n",
       "      <td>/kaggle/input/tomato-disease-multiple-sources/...</td>\n",
       "      <td>Leaf_Mold</td>\n",
       "    </tr>\n",
       "    <tr>\n",
       "      <th>6682</th>\n",
       "      <td>/kaggle/input/tomato-disease-multiple-sources/...</td>\n",
       "      <td>Leaf_Mold</td>\n",
       "    </tr>\n",
       "    <tr>\n",
       "      <th>6683</th>\n",
       "      <td>/kaggle/input/tomato-disease-multiple-sources/...</td>\n",
       "      <td>Leaf_Mold</td>\n",
       "    </tr>\n",
       "  </tbody>\n",
       "</table>\n",
       "<p>6684 rows × 2 columns</p>\n",
       "</div>"
      ],
      "text/plain": [
       "                                              filepaths      classes\n",
       "0     /kaggle/input/tomato-disease-multiple-sources/...  Late_blight\n",
       "1     /kaggle/input/tomato-disease-multiple-sources/...  Late_blight\n",
       "2     /kaggle/input/tomato-disease-multiple-sources/...  Late_blight\n",
       "3     /kaggle/input/tomato-disease-multiple-sources/...  Late_blight\n",
       "4     /kaggle/input/tomato-disease-multiple-sources/...  Late_blight\n",
       "...                                                 ...          ...\n",
       "6679  /kaggle/input/tomato-disease-multiple-sources/...    Leaf_Mold\n",
       "6680  /kaggle/input/tomato-disease-multiple-sources/...    Leaf_Mold\n",
       "6681  /kaggle/input/tomato-disease-multiple-sources/...    Leaf_Mold\n",
       "6682  /kaggle/input/tomato-disease-multiple-sources/...    Leaf_Mold\n",
       "6683  /kaggle/input/tomato-disease-multiple-sources/...    Leaf_Mold\n",
       "\n",
       "[6684 rows x 2 columns]"
      ]
     },
     "execution_count": 5,
     "metadata": {},
     "output_type": "execute_result"
    }
   ],
   "source": [
    "testfiles = []\n",
    "all_files = []\n",
    "labels = []\n",
    "\n",
    "for i in testclasses:\n",
    "    testfiles = [file for file in os.listdir(\"/kaggle/input/tomato-disease-multiple-sources/valid/\" + i)]\n",
    "    for m in testfiles:\n",
    "        labels.append(i)\n",
    "        filestring = \"/kaggle/input/tomato-disease-multiple-sources/valid/\" + i + \"/\" + m\n",
    "        all_files.append(filestring)\n",
    "        \n",
    "\n",
    "df2 = pd.DataFrame()\n",
    "df2[\"filepaths\"] = all_files\n",
    "df2[\"classes\"] = labels\n",
    "df2"
   ]
  },
  {
   "cell_type": "code",
   "execution_count": 6,
   "metadata": {
    "execution": {
     "iopub.execute_input": "2023-06-03T03:59:22.209885Z",
     "iopub.status.busy": "2023-06-03T03:59:22.209581Z",
     "iopub.status.idle": "2023-06-03T03:59:22.231946Z",
     "shell.execute_reply": "2023-06-03T03:59:22.230910Z",
     "shell.execute_reply.started": "2023-06-03T03:59:22.209850Z"
    }
   },
   "outputs": [
    {
     "data": {
      "text/html": [
       "<div>\n",
       "<style scoped>\n",
       "    .dataframe tbody tr th:only-of-type {\n",
       "        vertical-align: middle;\n",
       "    }\n",
       "\n",
       "    .dataframe tbody tr th {\n",
       "        vertical-align: top;\n",
       "    }\n",
       "\n",
       "    .dataframe thead th {\n",
       "        text-align: right;\n",
       "    }\n",
       "</style>\n",
       "<table border=\"1\" class=\"dataframe\">\n",
       "  <thead>\n",
       "    <tr style=\"text-align: right;\">\n",
       "      <th></th>\n",
       "      <th>filepaths</th>\n",
       "      <th>classes</th>\n",
       "      <th>label</th>\n",
       "    </tr>\n",
       "  </thead>\n",
       "  <tbody>\n",
       "    <tr>\n",
       "      <th>0</th>\n",
       "      <td>/kaggle/input/tomato-disease-multiple-sources/...</td>\n",
       "      <td>Late_blight</td>\n",
       "      <td>2</td>\n",
       "    </tr>\n",
       "    <tr>\n",
       "      <th>1</th>\n",
       "      <td>/kaggle/input/tomato-disease-multiple-sources/...</td>\n",
       "      <td>Late_blight</td>\n",
       "      <td>2</td>\n",
       "    </tr>\n",
       "    <tr>\n",
       "      <th>2</th>\n",
       "      <td>/kaggle/input/tomato-disease-multiple-sources/...</td>\n",
       "      <td>Late_blight</td>\n",
       "      <td>2</td>\n",
       "    </tr>\n",
       "    <tr>\n",
       "      <th>3</th>\n",
       "      <td>/kaggle/input/tomato-disease-multiple-sources/...</td>\n",
       "      <td>Late_blight</td>\n",
       "      <td>2</td>\n",
       "    </tr>\n",
       "    <tr>\n",
       "      <th>4</th>\n",
       "      <td>/kaggle/input/tomato-disease-multiple-sources/...</td>\n",
       "      <td>Late_blight</td>\n",
       "      <td>2</td>\n",
       "    </tr>\n",
       "    <tr>\n",
       "      <th>...</th>\n",
       "      <td>...</td>\n",
       "      <td>...</td>\n",
       "      <td>...</td>\n",
       "    </tr>\n",
       "    <tr>\n",
       "      <th>25846</th>\n",
       "      <td>/kaggle/input/tomato-disease-multiple-sources/...</td>\n",
       "      <td>Leaf_Mold</td>\n",
       "      <td>3</td>\n",
       "    </tr>\n",
       "    <tr>\n",
       "      <th>25847</th>\n",
       "      <td>/kaggle/input/tomato-disease-multiple-sources/...</td>\n",
       "      <td>Leaf_Mold</td>\n",
       "      <td>3</td>\n",
       "    </tr>\n",
       "    <tr>\n",
       "      <th>25848</th>\n",
       "      <td>/kaggle/input/tomato-disease-multiple-sources/...</td>\n",
       "      <td>Leaf_Mold</td>\n",
       "      <td>3</td>\n",
       "    </tr>\n",
       "    <tr>\n",
       "      <th>25849</th>\n",
       "      <td>/kaggle/input/tomato-disease-multiple-sources/...</td>\n",
       "      <td>Leaf_Mold</td>\n",
       "      <td>3</td>\n",
       "    </tr>\n",
       "    <tr>\n",
       "      <th>25850</th>\n",
       "      <td>/kaggle/input/tomato-disease-multiple-sources/...</td>\n",
       "      <td>Leaf_Mold</td>\n",
       "      <td>3</td>\n",
       "    </tr>\n",
       "  </tbody>\n",
       "</table>\n",
       "<p>25851 rows × 3 columns</p>\n",
       "</div>"
      ],
      "text/plain": [
       "                                               filepaths      classes  label\n",
       "0      /kaggle/input/tomato-disease-multiple-sources/...  Late_blight      2\n",
       "1      /kaggle/input/tomato-disease-multiple-sources/...  Late_blight      2\n",
       "2      /kaggle/input/tomato-disease-multiple-sources/...  Late_blight      2\n",
       "3      /kaggle/input/tomato-disease-multiple-sources/...  Late_blight      2\n",
       "4      /kaggle/input/tomato-disease-multiple-sources/...  Late_blight      2\n",
       "...                                                  ...          ...    ...\n",
       "25846  /kaggle/input/tomato-disease-multiple-sources/...    Leaf_Mold      3\n",
       "25847  /kaggle/input/tomato-disease-multiple-sources/...    Leaf_Mold      3\n",
       "25848  /kaggle/input/tomato-disease-multiple-sources/...    Leaf_Mold      3\n",
       "25849  /kaggle/input/tomato-disease-multiple-sources/...    Leaf_Mold      3\n",
       "25850  /kaggle/input/tomato-disease-multiple-sources/...    Leaf_Mold      3\n",
       "\n",
       "[25851 rows x 3 columns]"
      ]
     },
     "execution_count": 6,
     "metadata": {},
     "output_type": "execute_result"
    }
   ],
   "source": [
    "from sklearn.preprocessing import LabelEncoder\n",
    "classes = ['Late_blight', 'Tomato_Yellow_Leaf_Curl_Virus', 'Septoria_leaf_spot', 'Early_blight',\n",
    "                'Spider_mites Two-spotted_spider_mite', 'powdery_mildew', 'healthy', 'Bacterial_spot',\n",
    "                'Target_Spot', 'Tomato_mosaic_virus', 'Leaf_Mold']\n",
    "\n",
    "label_encoder = LabelEncoder()\n",
    "\n",
    "df[\"label\"] = label_encoder.fit_transform(df[\"classes\"])\n",
    "df\n"
   ]
  },
  {
   "cell_type": "code",
   "execution_count": 7,
   "metadata": {
    "execution": {
     "iopub.execute_input": "2023-06-03T03:59:22.235072Z",
     "iopub.status.busy": "2023-06-03T03:59:22.234765Z",
     "iopub.status.idle": "2023-06-03T03:59:22.242979Z",
     "shell.execute_reply": "2023-06-03T03:59:22.242042Z",
     "shell.execute_reply.started": "2023-06-03T03:59:22.235048Z"
    }
   },
   "outputs": [
    {
     "data": {
      "text/plain": [
       "2     3113\n",
       "9     3051\n",
       "4     2882\n",
       "0     2826\n",
       "3     2754\n",
       "1     2455\n",
       "8     2153\n",
       "7     2039\n",
       "6     1827\n",
       "5     1747\n",
       "10    1004\n",
       "Name: label, dtype: int64"
      ]
     },
     "execution_count": 7,
     "metadata": {},
     "output_type": "execute_result"
    }
   ],
   "source": [
    "df[\"label\"].value_counts()"
   ]
  },
  {
   "cell_type": "code",
   "execution_count": 8,
   "metadata": {
    "execution": {
     "iopub.execute_input": "2023-06-03T03:59:22.245122Z",
     "iopub.status.busy": "2023-06-03T03:59:22.244413Z",
     "iopub.status.idle": "2023-06-03T03:59:22.263480Z",
     "shell.execute_reply": "2023-06-03T03:59:22.262426Z",
     "shell.execute_reply.started": "2023-06-03T03:59:22.245090Z"
    }
   },
   "outputs": [
    {
     "data": {
      "text/html": [
       "<div>\n",
       "<style scoped>\n",
       "    .dataframe tbody tr th:only-of-type {\n",
       "        vertical-align: middle;\n",
       "    }\n",
       "\n",
       "    .dataframe tbody tr th {\n",
       "        vertical-align: top;\n",
       "    }\n",
       "\n",
       "    .dataframe thead th {\n",
       "        text-align: right;\n",
       "    }\n",
       "</style>\n",
       "<table border=\"1\" class=\"dataframe\">\n",
       "  <thead>\n",
       "    <tr style=\"text-align: right;\">\n",
       "      <th></th>\n",
       "      <th>filepaths</th>\n",
       "      <th>classes</th>\n",
       "      <th>label</th>\n",
       "    </tr>\n",
       "  </thead>\n",
       "  <tbody>\n",
       "    <tr>\n",
       "      <th>0</th>\n",
       "      <td>/kaggle/input/tomato-disease-multiple-sources/...</td>\n",
       "      <td>Late_blight</td>\n",
       "      <td>2</td>\n",
       "    </tr>\n",
       "    <tr>\n",
       "      <th>1</th>\n",
       "      <td>/kaggle/input/tomato-disease-multiple-sources/...</td>\n",
       "      <td>Late_blight</td>\n",
       "      <td>2</td>\n",
       "    </tr>\n",
       "    <tr>\n",
       "      <th>2</th>\n",
       "      <td>/kaggle/input/tomato-disease-multiple-sources/...</td>\n",
       "      <td>Late_blight</td>\n",
       "      <td>2</td>\n",
       "    </tr>\n",
       "    <tr>\n",
       "      <th>3</th>\n",
       "      <td>/kaggle/input/tomato-disease-multiple-sources/...</td>\n",
       "      <td>Late_blight</td>\n",
       "      <td>2</td>\n",
       "    </tr>\n",
       "    <tr>\n",
       "      <th>4</th>\n",
       "      <td>/kaggle/input/tomato-disease-multiple-sources/...</td>\n",
       "      <td>Late_blight</td>\n",
       "      <td>2</td>\n",
       "    </tr>\n",
       "    <tr>\n",
       "      <th>...</th>\n",
       "      <td>...</td>\n",
       "      <td>...</td>\n",
       "      <td>...</td>\n",
       "    </tr>\n",
       "    <tr>\n",
       "      <th>6679</th>\n",
       "      <td>/kaggle/input/tomato-disease-multiple-sources/...</td>\n",
       "      <td>Leaf_Mold</td>\n",
       "      <td>3</td>\n",
       "    </tr>\n",
       "    <tr>\n",
       "      <th>6680</th>\n",
       "      <td>/kaggle/input/tomato-disease-multiple-sources/...</td>\n",
       "      <td>Leaf_Mold</td>\n",
       "      <td>3</td>\n",
       "    </tr>\n",
       "    <tr>\n",
       "      <th>6681</th>\n",
       "      <td>/kaggle/input/tomato-disease-multiple-sources/...</td>\n",
       "      <td>Leaf_Mold</td>\n",
       "      <td>3</td>\n",
       "    </tr>\n",
       "    <tr>\n",
       "      <th>6682</th>\n",
       "      <td>/kaggle/input/tomato-disease-multiple-sources/...</td>\n",
       "      <td>Leaf_Mold</td>\n",
       "      <td>3</td>\n",
       "    </tr>\n",
       "    <tr>\n",
       "      <th>6683</th>\n",
       "      <td>/kaggle/input/tomato-disease-multiple-sources/...</td>\n",
       "      <td>Leaf_Mold</td>\n",
       "      <td>3</td>\n",
       "    </tr>\n",
       "  </tbody>\n",
       "</table>\n",
       "<p>6684 rows × 3 columns</p>\n",
       "</div>"
      ],
      "text/plain": [
       "                                              filepaths      classes  label\n",
       "0     /kaggle/input/tomato-disease-multiple-sources/...  Late_blight      2\n",
       "1     /kaggle/input/tomato-disease-multiple-sources/...  Late_blight      2\n",
       "2     /kaggle/input/tomato-disease-multiple-sources/...  Late_blight      2\n",
       "3     /kaggle/input/tomato-disease-multiple-sources/...  Late_blight      2\n",
       "4     /kaggle/input/tomato-disease-multiple-sources/...  Late_blight      2\n",
       "...                                                 ...          ...    ...\n",
       "6679  /kaggle/input/tomato-disease-multiple-sources/...    Leaf_Mold      3\n",
       "6680  /kaggle/input/tomato-disease-multiple-sources/...    Leaf_Mold      3\n",
       "6681  /kaggle/input/tomato-disease-multiple-sources/...    Leaf_Mold      3\n",
       "6682  /kaggle/input/tomato-disease-multiple-sources/...    Leaf_Mold      3\n",
       "6683  /kaggle/input/tomato-disease-multiple-sources/...    Leaf_Mold      3\n",
       "\n",
       "[6684 rows x 3 columns]"
      ]
     },
     "execution_count": 8,
     "metadata": {},
     "output_type": "execute_result"
    }
   ],
   "source": [
    "df2[\"label\"] = label_encoder.fit_transform(df2[\"classes\"])\n",
    "df2\n"
   ]
  },
  {
   "cell_type": "code",
   "execution_count": 9,
   "metadata": {
    "execution": {
     "iopub.execute_input": "2023-06-03T03:59:22.267664Z",
     "iopub.status.busy": "2023-06-03T03:59:22.266667Z",
     "iopub.status.idle": "2023-06-03T03:59:22.275311Z",
     "shell.execute_reply": "2023-06-03T03:59:22.274250Z",
     "shell.execute_reply.started": "2023-06-03T03:59:22.267625Z"
    }
   },
   "outputs": [
    {
     "data": {
      "text/plain": [
       "9     806\n",
       "2     792\n",
       "4     746\n",
       "3     739\n",
       "0     732\n",
       "1     643\n",
       "8     584\n",
       "7     498\n",
       "6     457\n",
       "5     435\n",
       "10    252\n",
       "Name: label, dtype: int64"
      ]
     },
     "execution_count": 9,
     "metadata": {},
     "output_type": "execute_result"
    }
   ],
   "source": [
    "df2[\"label\"].value_counts()"
   ]
  },
  {
   "cell_type": "code",
   "execution_count": 10,
   "metadata": {
    "execution": {
     "iopub.execute_input": "2023-06-03T03:59:22.280710Z",
     "iopub.status.busy": "2023-06-03T03:59:22.280444Z",
     "iopub.status.idle": "2023-06-03T03:59:22.288162Z",
     "shell.execute_reply": "2023-06-03T03:59:22.287063Z",
     "shell.execute_reply.started": "2023-06-03T03:59:22.280688Z"
    }
   },
   "outputs": [],
   "source": [
    "import os\n",
    "import numpy as np\n",
    "import pandas as pd\n",
    "from PIL import Image\n",
    "import matplotlib.pyplot as plt\n",
    "import matplotlib.image as mpimg\n",
    "from sklearn.model_selection import train_test_split"
   ]
  },
  {
   "cell_type": "code",
   "execution_count": 11,
   "metadata": {
    "execution": {
     "iopub.execute_input": "2023-06-03T03:59:22.290057Z",
     "iopub.status.busy": "2023-06-03T03:59:22.289476Z",
     "iopub.status.idle": "2023-06-03T04:03:16.641544Z",
     "shell.execute_reply": "2023-06-03T04:03:16.640497Z",
     "shell.execute_reply.started": "2023-06-03T03:59:22.290027Z"
    }
   },
   "outputs": [],
   "source": [
    "train_data = []\n",
    "for i in df[\"filepaths\"]:\n",
    "    image = Image.open(i)\n",
    "    image = image.resize((128, 128))  # Resize the image to 128x128\n",
    "    image = np.array(image)\n",
    "    train_data.append(image)"
   ]
  },
  {
   "cell_type": "code",
   "execution_count": 12,
   "metadata": {
    "execution": {
     "iopub.execute_input": "2023-06-03T04:03:16.646112Z",
     "iopub.status.busy": "2023-06-03T04:03:16.645377Z",
     "iopub.status.idle": "2023-06-03T04:03:17.162708Z",
     "shell.execute_reply": "2023-06-03T04:03:17.161787Z",
     "shell.execute_reply.started": "2023-06-03T04:03:16.646078Z"
    }
   },
   "outputs": [
    {
     "name": "stdout",
     "output_type": "stream",
     "text": [
      "(25851, 128, 128, 3)\n"
     ]
    }
   ],
   "source": [
    "reshaped_data = []\n",
    "\n",
    "# Iterate over the elements of train_data and reshape each image\n",
    "for img in train_data:\n",
    "    # Check the shape of the image\n",
    "    if img.shape[2] == 4:\n",
    "        # Remove the alpha channel if present\n",
    "        img = img[:, :, :3]\n",
    "    reshaped_data.append(img)\n",
    "\n",
    "# Convert the reshaped_data list to a NumPy array\n",
    "train_data = np.array(reshaped_data)\n",
    "\n",
    "# Ensure the shape of train_data is (num_samples, 128, 128, 3)\n",
    "print(train_data.shape)\n",
    "\n",
    "# Assign train_data to X_train\n",
    "X_train = train_data\n",
    "\n",
    "\n",
    "\n"
   ]
  },
  {
   "cell_type": "code",
   "execution_count": 13,
   "metadata": {
    "execution": {
     "iopub.execute_input": "2023-06-03T04:03:17.164492Z",
     "iopub.status.busy": "2023-06-03T04:03:17.164041Z",
     "iopub.status.idle": "2023-06-03T04:03:17.171057Z",
     "shell.execute_reply": "2023-06-03T04:03:17.170164Z",
     "shell.execute_reply.started": "2023-06-03T04:03:17.164457Z"
    }
   },
   "outputs": [
    {
     "data": {
      "text/plain": [
       "(25851, 128, 128, 3)"
      ]
     },
     "execution_count": 13,
     "metadata": {},
     "output_type": "execute_result"
    }
   ],
   "source": [
    "X_train.shape"
   ]
  },
  {
   "cell_type": "code",
   "execution_count": 14,
   "metadata": {
    "execution": {
     "iopub.execute_input": "2023-06-03T04:03:17.173045Z",
     "iopub.status.busy": "2023-06-03T04:03:17.172318Z",
     "iopub.status.idle": "2023-06-03T04:03:17.192086Z",
     "shell.execute_reply": "2023-06-03T04:03:17.190814Z",
     "shell.execute_reply.started": "2023-06-03T04:03:17.173013Z"
    }
   },
   "outputs": [
    {
     "data": {
      "text/plain": [
       "(25851,)"
      ]
     },
     "execution_count": 14,
     "metadata": {},
     "output_type": "execute_result"
    }
   ],
   "source": [
    "Y_train = np.array(df[\"label\"])\n",
    "Y_train.shape"
   ]
  },
  {
   "cell_type": "code",
   "execution_count": null,
   "metadata": {
    "execution": {
     "iopub.execute_input": "2023-06-03T04:03:17.194240Z",
     "iopub.status.busy": "2023-06-03T04:03:17.193548Z"
    }
   },
   "outputs": [
    {
     "name": "stdout",
     "output_type": "stream",
     "text": [
      "/kaggle/input/tomato-disease-multiple-sources/valid/healthy/HL_(336).png\n"
     ]
    }
   ],
   "source": [
    "test_data = []\n",
    "for i in df2[\"filepaths\"]:\n",
    "    try:\n",
    "        image = Image.open(i)\n",
    "        image = image.resize((128, 128))  # Resize the image to 128x128\n",
    "        image = np.array(image)\n",
    "        test_data.append(image)\n",
    "    except:\n",
    "        print(i)\n",
    "        index = df2[\"filepaths\"].tolist().index(i)\n",
    "        df2 = df2.drop(index)\n",
    "        df2 = df2.reset_index(drop=True)\n",
    "        continue\n"
   ]
  },
  {
   "cell_type": "code",
   "execution_count": null,
   "metadata": {},
   "outputs": [],
   "source": [
    "reshaped_data = []\n",
    "\n",
    "# Iterate over the elements of train_data and reshape each image\n",
    "for img in test_data:\n",
    "    # Check the shape of the image\n",
    "    if img.shape[2] == 4:\n",
    "        # Remove the alpha channel if present\n",
    "        img = img[:, :, :3]\n",
    "    reshaped_data.append(img)\n",
    "\n",
    "# Convert the reshaped_data list to a NumPy array\n",
    "test_data = np.array(reshaped_data)\n",
    "\n",
    "# Ensure the shape of train_data is (num_samples, 128, 128, 3)\n",
    "print(test_data.shape)\n",
    "\n",
    "# Assign train_data to X_train\n",
    "X_test = test_data"
   ]
  },
  {
   "cell_type": "code",
   "execution_count": null,
   "metadata": {},
   "outputs": [],
   "source": [
    "Y_test = np.array(df2[\"label\"])"
   ]
  },
  {
   "cell_type": "code",
   "execution_count": null,
   "metadata": {},
   "outputs": [],
   "source": [
    "Y_test.shape"
   ]
  },
  {
   "cell_type": "code",
   "execution_count": null,
   "metadata": {},
   "outputs": [],
   "source": [
    "import tensorflow as tf\n",
    "from tensorflow import keras\n",
    "from tensorflow.keras import Sequential, models, layers\n",
    "from tensorflow.keras.layers import Dense, Dropout, Flatten\n",
    "from tensorflow.keras.layers import BatchNormalization\n",
    "from tensorflow.keras.models import load_model\n",
    "from tensorflow.keras.models import Model\n",
    "from tensorflow.keras.applications.vgg16 import VGG16\n",
    "from tensorflow.keras import optimizers"
   ]
  },
  {
   "cell_type": "code",
   "execution_count": null,
   "metadata": {},
   "outputs": [],
   "source": [
    "convolutional_base = VGG16(include_top=False, weights='imagenet', input_shape = (128,128, 3))\n",
    "convolutional_base.summary()"
   ]
  },
  {
   "cell_type": "code",
   "execution_count": null,
   "metadata": {},
   "outputs": [],
   "source": [
    "num_of_classes = 11\n",
    "model = models.Sequential()\n",
    "model.add(convolutional_base)\n",
    "model.add(layers.Flatten())\n",
    "model.add(layers.BatchNormalization()) # make sure all values are of same range. it makes the traing process efficient\n",
    "model.add(layers.Dense(128, activation = \"relu\"))\n",
    "model.add(layers.Dropout(0.5)) # turns off neurons to avoid overfitting\n",
    "model.add(layers.BatchNormalization())\n",
    "model.add(layers.Dense(64, activation = \"relu\"))\n",
    "model.add(layers.Dropout(0.5))\n",
    "model.add(layers.BatchNormalization())\n",
    "model.add(layers.Dense(num_of_classes, activation = \"softmax\"))"
   ]
  },
  {
   "cell_type": "code",
   "execution_count": null,
   "metadata": {},
   "outputs": [],
   "source": [
    "model.compile(\n",
    "optimizer = optimizers.RMSprop(learning_rate = 2e-5),\n",
    "loss = keras.losses.sparse_categorical_crossentropy,\n",
    "metrics = ['acc'])"
   ]
  },
  {
   "cell_type": "code",
   "execution_count": 25,
   "metadata": {
    "execution": {
     "iopub.execute_input": "2023-06-03T05:01:10.013143Z",
     "iopub.status.busy": "2023-06-03T05:01:10.012717Z",
     "iopub.status.idle": "2023-06-03T05:10:34.150541Z",
     "shell.execute_reply": "2023-06-03T05:10:34.149266Z",
     "shell.execute_reply.started": "2023-06-03T05:01:10.013111Z"
    }
   },
   "outputs": [
    {
     "name": "stdout",
     "output_type": "stream",
     "text": [
      "Epoch 1/5\n",
      "728/728 [==============================] - 107s 147ms/step - loss: 0.2046 - acc: 0.9571 - val_loss: 4.1998 - val_acc: 0.0000e+00\n",
      "Epoch 2/5\n",
      "728/728 [==============================] - 107s 147ms/step - loss: 0.2040 - acc: 0.9562 - val_loss: 3.2191 - val_acc: 0.0000e+00\n",
      "Epoch 3/5\n",
      "728/728 [==============================] - 107s 147ms/step - loss: 0.1946 - acc: 0.9601 - val_loss: 3.2352 - val_acc: 0.0012\n",
      "Epoch 4/5\n",
      "728/728 [==============================] - 105s 144ms/step - loss: 0.1798 - acc: 0.9637 - val_loss: 3.0032 - val_acc: 0.0151\n",
      "Epoch 5/5\n",
      "728/728 [==============================] - 106s 146ms/step - loss: 0.1683 - acc: 0.9651 - val_loss: 2.9866 - val_acc: 0.0538\n"
     ]
    },
    {
     "data": {
      "text/plain": [
       "<keras.callbacks.History at 0x7a759055f190>"
      ]
     },
     "execution_count": 25,
     "metadata": {},
     "output_type": "execute_result"
    }
   ],
   "source": [
    "model.fit(X_train, Y_train, validation_split = 0.1, epochs = 35)"
   ]
  },
  {
   "cell_type": "code",
   "execution_count": 26,
   "metadata": {
    "execution": {
     "iopub.execute_input": "2023-06-03T05:10:34.153272Z",
     "iopub.status.busy": "2023-06-03T05:10:34.152868Z",
     "iopub.status.idle": "2023-06-03T05:10:54.286547Z",
     "shell.execute_reply": "2023-06-03T05:10:54.285288Z",
     "shell.execute_reply.started": "2023-06-03T05:10:34.153240Z"
    }
   },
   "outputs": [
    {
     "name": "stdout",
     "output_type": "stream",
     "text": [
      "209/209 [==============================] - 8s 40ms/step\n",
      "209/209 [==============================] - 9s 41ms/step - loss: 0.4880 - acc: 0.8547\n",
      "Accuracy: 0.8547059893608093\n",
      "Precision: 0.8638698412986688\n",
      "Recall: 0.8743169685265443\n",
      "F1 Score: 0.8251096171638899\n"
     ]
    }
   ],
   "source": [
    "from sklearn.metrics import precision_score, recall_score, f1_score\n",
    "import numpy as np\n",
    "\n",
    "# Assuming you have trained your Sequential model and made predictions on the test data\n",
    "y_pred_probabilities = model.predict(X_test)  # Replace X_test with your test data\n",
    "\n",
    "# Convert predicted probabilities to binary predictions (0 or 1)\n",
    "y_pred = np.argmax(y_pred_probabilities, axis=1)\n",
    "\n",
    "# Calculate accuracy\n",
    "accuracy = model.evaluate(X_test, Y_test)[1]  # Replace y_test with your test labels\n",
    "\n",
    "# Calculate precision, recall, and F1 score\n",
    "precision = precision_score(Y_test, y_pred, average = \"macro\")\n",
    "recall = recall_score(Y_test, y_pred, average = \"macro\")\n",
    "f1 = f1_score(Y_test, y_pred, average = \"macro\")\n",
    "\n",
    "# Print the metrics\n",
    "print(\"Accuracy:\", accuracy)\n",
    "print(\"Precision:\", precision)\n",
    "print(\"Recall:\", recall)\n",
    "print(\"F1 Score:\", f1)"
   ]
  },
  {
   "cell_type": "code",
   "execution_count": null,
   "metadata": {},
   "outputs": [],
   "source": []
  }
 ],
 "metadata": {
  "kernelspec": {
   "display_name": "Python 3 (ipykernel)",
   "language": "python",
   "name": "python3"
  },
  "language_info": {
   "codemirror_mode": {
    "name": "ipython",
    "version": 3
   },
   "file_extension": ".py",
   "mimetype": "text/x-python",
   "name": "python",
   "nbconvert_exporter": "python",
   "pygments_lexer": "ipython3",
   "version": "3.9.13"
  }
 },
 "nbformat": 4,
 "nbformat_minor": 4
}
